import pandas as pd

df = pd.read_csv('churn_cleaned.csv')
df


df.info()


#use pycaret to find an ML algorithm that performs best on the data

from pycaret.classification import setup, compare_models, predict_model, save_model, load_model

automl = setup(df, target='Churn')


best_model = compare_models()


#Choose a metric you think is best to use for finding the best model
best_model





# save the model to disk

save_model(best_model, 'Logistic_Regression')


import pickle

with open('Logistic_Regression.pk', 'wb') as f:
    pickle.dump(best_model, f)

with open('Logistic_Regression.pk', 'rb') as f:
    loaded_model = pickle.load(f)

new_data = df.iloc[-2:-1].copy()
new_data.drop('Churn', axis=1, inplace=True)
loaded_model.predict(new_data)

loaded_lda = load_model('Logistic_Regression')

predict_model(loaded_lda, new_data)


# create a Python script/file/module with a function that takes a pandas dataframe as an input 
# and returns the probability of churn for each row in the dataframe


## This is the code in our python script

from pycaret.classification import predict_model, load_model

def load_data(filepath):
    """
    Loads data into a DataFrame from a string filepath.
    """
    df = pd.read_csv(filepath)
    return df


def make_predictions(df):
    """
    Uses the pycaret best model to make predictions on data in the df dataframe.
    """
    model = load_model('Logistic_Regression')
    predictions = predict_model(model, data=df)

    # Check the column names
    print(predictions.columns)
    
    # Rename 'prediction_label' to 'Churn_prediction'
    if 'prediction_label' in predictions.columns:
        predictions.rename(columns={'prediction_label': 'Churn_prediction'}, inplace=True)
        
        # Replace values in the new column
        predictions['Churn_prediction'].replace({1: 'Churn', 0: 'No Churn'}, inplace=True)
        
        return predictions['Churn_prediction']
    else:
        raise KeyError("The 'prediction_label' column was not found in the predictions DataFrame")


if __name__ == "__main__":
    df = load_data('new_churn_cleaned.csv')
    predictions = make_predictions(df)
    print('predictions:')
    print(predictions)





df.info()


new_df = pd.read_csv('new_churn_data_unmodified.csv')
new_df


# We are transforming categorical data into numeric

new_df_copy = new_df

new_df_copy['PhoneService'] = df['PhoneService'].replace({'No': 0, 'Yes': 1})
new_df_copy['Contract'] = df['Contract'].replace({'Month-to-month': 0, 'One year': 1, 'Two year': 2})
new_df_copy['PaymentMethod'] = df['PaymentMethod'].replace({'Mailed check': 0, 'Electronic check': 1, 'Bank transfer (automatic)': 2, 'Credit card (automatic)':3})
new_df_copy['AutoPay'] = df['PaymentMethod'].replace({'Mailed check': 0, 'Electronic check': 0, 'Bank transfer (automatic)': 1, 'Credit card (automatic)':1})
new_df_copy['Churn'] = df['Churn'].replace({'No': 0, 'Yes': 1})
new_df_copy.info()


# Now we will add the the combined features from our cleaned data

new_df_copy['monthly_to_total'] = new_df_copy['MonthlyCharges'] / new_df_copy['TotalCharges']
new_df_copy['tenure_to_total'] = new_df_copy['tenure'] / new_df_copy['TotalCharges']

new_df_copy.info()


new_df_copy.to_csv('new_churn_cleaned.csv', index=False)


%run predict_churn_copy.py


from pycaret.classification import predict_model, load_model

def load_data(filepath):
    """
    Loads data into a DataFrame from a string filepath.
    """
    df = pd.read_csv(filepath)
    return df


def make_predictions(df):
    """
    Uses the pycaret best model to make predictions on data in the df dataframe.
    """
    model = load_model('Logistic_Regression')
    predictions = predict_model(model, data=df)

    # Check the column names
    print(predictions.columns)
    
    # Rename 'prediction_label' to 'Churn_prediction'
    if 'prediction_label' in predictions.columns:
        predictions.rename(columns={'prediction_label': 'Churn_prediction'}, inplace=True)
        
        # Replace values in the new column
        predictions['Churn_prediction'].replace({1: 'Churn', 0: 'No Churn'}, inplace=True)
        
        return predictions['Churn_prediction']
    else:
        raise KeyError("The 'prediction_label' column was not found in the predictions DataFrame")


if __name__ == "__main__":
    df = load_data('new_churn_cleaned.csv')
    predictions = make_predictions(df)
    print('predictions:')
    print(predictions)






