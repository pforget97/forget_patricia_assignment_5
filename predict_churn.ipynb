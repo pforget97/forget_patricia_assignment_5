{
 "cells": [
  {
   "cell_type": "code",
   "execution_count": null,
   "id": "22cbf9c5-69ff-4031-8313-81655a344cd9",
   "metadata": {},
   "outputs": [],
   "source": [
    "from pycaret.classification import predict_model, load_model\n",
    "\n",
    "def load_data(filepath):\n",
    "    \"\"\"\n",
    "    Loads data into a DataFrame from a string filepath.\n",
    "    \"\"\"\n",
    "    df = pd.read_csv(filepath)\n",
    "    return df\n",
    "\n",
    "\n",
    "def make_predictions(df):\n",
    "    \"\"\"\n",
    "    Uses the pycaret best model to make predictions on data in the df dataframe.\n",
    "    \"\"\"\n",
    "    model = load_model('Logistic_Regression')\n",
    "    predictions = predict_model(model, data=df)\n",
    "\n",
    "    # Check the column names\n",
    "    print(predictions.columns)\n",
    "    \n",
    "    # Rename 'prediction_label' to 'Churn_prediction'\n",
    "    if 'prediction_label' in predictions.columns:\n",
    "        predictions.rename(columns={'prediction_label': 'Churn_prediction'}, inplace=True)\n",
    "        \n",
    "        # Replace values in the new column\n",
    "        predictions['Churn_prediction'].replace({1: 'Churn', 0: 'No Churn'}, inplace=True)\n",
    "        \n",
    "        return predictions['Churn_prediction']\n",
    "    else:\n",
    "        raise KeyError(\"The 'prediction_label' column was not found in the predictions DataFrame\")\n",
    "\n",
    "\n",
    "if __name__ == \"__main__\":\n",
    "    df = load_data('new_churn_data.csv')\n",
    "    predictions = make_predictions(df)\n",
    "    print('predictions:')\n",
    "    print(predictions)\n",
    "\n",
    "print(\"I'm reading\")"
   ]
  }
 ],
 "metadata": {
  "kernelspec": {
   "display_name": "new env",
   "language": "python",
   "name": "new_env"
  },
  "language_info": {
   "codemirror_mode": {
    "name": "ipython",
    "version": 3
   },
   "file_extension": ".py",
   "mimetype": "text/x-python",
   "name": "python",
   "nbconvert_exporter": "python",
   "pygments_lexer": "ipython3",
   "version": "3.10.18"
  }
 },
 "nbformat": 4,
 "nbformat_minor": 5
}
